{
  "nbformat": 4,
  "nbformat_minor": 0,
  "metadata": {
    "colab": {
      "provenance": [],
      "authorship_tag": "ABX9TyPNOplZAafuS/KbXIUonCI7",
      "include_colab_link": true
    },
    "kernelspec": {
      "name": "python3",
      "display_name": "Python 3"
    },
    "language_info": {
      "name": "python"
    }
  },
  "cells": [
    {
      "cell_type": "markdown",
      "metadata": {
        "id": "view-in-github",
        "colab_type": "text"
      },
      "source": [
        "<a href=\"https://colab.research.google.com/github/santhoshnena/Santhosh_python/blob/main/ml_day1.ipynb\" target=\"_parent\"><img src=\"https://colab.research.google.com/assets/colab-badge.svg\" alt=\"Open In Colab\"/></a>"
      ]
    },
    {
      "cell_type": "code",
      "execution_count": null,
      "metadata": {
        "colab": {
          "base_uri": "https://localhost:8080/"
        },
        "id": "c7rzqE9vieXp",
        "outputId": "b7053262-c820-4e6c-991c-11cc24a3df22"
      },
      "outputs": [
        {
          "output_type": "stream",
          "name": "stdout",
          "text": [
            "hi santhosh\n"
          ]
        }
      ],
      "source": [
        "print(\"hi santhosh\")"
      ]
    },
    {
      "cell_type": "code",
      "source": [
        "a = 95424248965\n",
        "print(a)"
      ],
      "metadata": {
        "colab": {
          "base_uri": "https://localhost:8080/"
        },
        "id": "aiK6rKNDw8c5",
        "outputId": "08aaf0d2-9eb3-43fa-c687-320ee81e17e2"
      },
      "execution_count": 1,
      "outputs": [
        {
          "output_type": "stream",
          "name": "stdout",
          "text": [
            "95424248965\n"
          ]
        }
      ]
    },
    {
      "cell_type": "code",
      "source": [
        "a='Santhosh'\n",
        "b= 9542428965\n",
        "c=\"NTT Data\"\n",
        "print(a,b,c)\n",
        "print(id(a))"
      ],
      "metadata": {
        "colab": {
          "base_uri": "https://localhost:8080/"
        },
        "id": "PldPPSyZxGsV",
        "outputId": "a8de7d06-48dd-47bb-b8e2-4e230364ca30"
      },
      "execution_count": 7,
      "outputs": [
        {
          "output_type": "stream",
          "name": "stdout",
          "text": [
            "Santhosh 9542428965 NTT Data\n",
            "133813169182192\n"
          ]
        }
      ]
    },
    {
      "cell_type": "code",
      "source": [
        "S = \"\"\"SANTHOSH NAYAK\n",
        "NTT DATA\"\"\"\n",
        "# print(S)\n",
        "print(S[::-1])"
      ],
      "metadata": {
        "id": "mvMiTWWTAvlp",
        "outputId": "c79ad512-975a-4139-9ad3-1f7d3f43aa6f",
        "colab": {
          "base_uri": "https://localhost:8080/"
        }
      },
      "execution_count": 24,
      "outputs": [
        {
          "output_type": "stream",
          "name": "stdout",
          "text": [
            "ATAD TTN\n",
            "KAYAN HSOHTNAS\n"
          ]
        }
      ]
    },
    {
      "cell_type": "code",
      "source": [],
      "metadata": {
        "id": "jvyN2NQou1Md"
      },
      "execution_count": null,
      "outputs": []
    }
  ]
}