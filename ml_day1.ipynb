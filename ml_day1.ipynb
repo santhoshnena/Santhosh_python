{
  "nbformat": 4,
  "nbformat_minor": 0,
  "metadata": {
    "colab": {
      "provenance": [],
      "authorship_tag": "ABX9TyMeA9p8Ox46Ur0i4hPi7VAk",
      "include_colab_link": true
    },
    "kernelspec": {
      "name": "python3",
      "display_name": "Python 3"
    },
    "language_info": {
      "name": "python"
    }
  },
  "cells": [
    {
      "cell_type": "markdown",
      "metadata": {
        "id": "view-in-github",
        "colab_type": "text"
      },
      "source": [
        "<a href=\"https://colab.research.google.com/github/santhoshnena/Santhosh_python/blob/main/ml_day1.ipynb\" target=\"_parent\"><img src=\"https://colab.research.google.com/assets/colab-badge.svg\" alt=\"Open In Colab\"/></a>"
      ]
    },
    {
      "cell_type": "code",
      "execution_count": null,
      "metadata": {
        "colab": {
          "base_uri": "https://localhost:8080/"
        },
        "id": "c7rzqE9vieXp",
        "outputId": "b7053262-c820-4e6c-991c-11cc24a3df22"
      },
      "outputs": [
        {
          "output_type": "stream",
          "name": "stdout",
          "text": [
            "hi santhosh\n"
          ]
        }
      ],
      "source": [
        "print(\"hi santhosh\")"
      ]
    },
    {
      "cell_type": "code",
      "source": [
        "a = 95424248965\n",
        "print(a)"
      ],
      "metadata": {
        "id": "aiK6rKNDw8c5",
        "outputId": "08aaf0d2-9eb3-43fa-c687-320ee81e17e2",
        "colab": {
          "base_uri": "https://localhost:8080/"
        }
      },
      "execution_count": 1,
      "outputs": [
        {
          "output_type": "stream",
          "name": "stdout",
          "text": [
            "95424248965\n"
          ]
        }
      ]
    },
    {
      "cell_type": "code",
      "source": [],
      "metadata": {
        "id": "PldPPSyZxGsV"
      },
      "execution_count": null,
      "outputs": []
    }
  ]
}